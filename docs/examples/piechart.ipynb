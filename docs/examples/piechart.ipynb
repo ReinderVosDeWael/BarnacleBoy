{
 "cells": [
  {
   "cell_type": "markdown",
   "source": [
    "# Building Piecharts\n",
    "\n",
    "Piecharts are probably one of the simplest charts you can build with BarnacleBoy.\n",
    "All they require is a key and a value for every slice and a title.\n",
    "\n",
    "Lets look at an example:\n"
   ],
   "metadata": {
    "collapsed": false
   }
  },
  {
   "cell_type": "code",
   "execution_count": null,
   "outputs": [],
   "source": [
    "from barnacleboy import Piechart\n",
    "\n",
    "save_html = False\n",
    "piechart = Piechart(\"Delicacies\", {\"Bantha Fodder\": 9, \"Jawa Juice\": 5})\n",
    "\n",
    "if save_html:\n",
    "    piechart.save_html(\"piechart.html\")\n",
    "piechart.jupyter_plot()  # Note: this will only work in Jupyter Notebooks.\n"
   ],
   "metadata": {
    "collapsed": false,
    "pycharm": {
     "is_executing": true
    }
   }
  }
 ],
 "metadata": {
  "kernelspec": {
   "display_name": "Python 3",
   "language": "python",
   "name": "python3"
  },
  "language_info": {
   "codemirror_mode": {
    "name": "ipython",
    "version": 2
   },
   "file_extension": ".py",
   "mimetype": "text/x-python",
   "name": "python",
   "nbconvert_exporter": "python",
   "pygments_lexer": "ipython2",
   "version": "2.7.6"
  }
 },
 "nbformat": 4,
 "nbformat_minor": 0
}
